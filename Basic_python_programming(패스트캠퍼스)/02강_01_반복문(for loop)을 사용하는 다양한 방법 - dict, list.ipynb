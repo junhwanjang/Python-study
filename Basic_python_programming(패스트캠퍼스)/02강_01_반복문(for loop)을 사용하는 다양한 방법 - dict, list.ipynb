{
 "cells": [
  {
   "cell_type": "markdown",
   "metadata": {},
   "source": [
    "# 반복문을 사용하는 다양한 방법\n",
    "* list\n",
    "* dict"
   ]
  },
  {
   "cell_type": "code",
   "execution_count": 1,
   "metadata": {
    "collapsed": true
   },
   "outputs": [],
   "source": [
    "# List, Dict\n",
    "\n",
    "animals = [\"강아지\", \"고양이\", \"이구아나\", \"원숭이\"]\n",
    "my_info = {\"name\": \"장준환\", \"age\": 25, \"phone_number\": \"010-2957-8151\"}"
   ]
  },
  {
   "cell_type": "code",
   "execution_count": 2,
   "metadata": {
    "collapsed": false
   },
   "outputs": [
    {
     "name": "stdout",
     "output_type": "stream",
     "text": [
      "강아지\n",
      "고양이\n",
      "이구아나\n",
      "원숭이\n"
     ]
    }
   ],
   "source": [
    "for animal in animals:\n",
    "    print(animal)"
   ]
  },
  {
   "cell_type": "code",
   "execution_count": 27,
   "metadata": {
    "collapsed": false
   },
   "outputs": [
    {
     "name": "stdout",
     "output_type": "stream",
     "text": [
      "age\n",
      "25\n",
      "phone_number\n",
      "010-2957-8151\n",
      "name\n",
      "장준환\n"
     ]
    }
   ],
   "source": [
    "for my_info in my_info.items():\n",
    "    key, value = my_info\n",
    "    print(key)\n",
    "    print(value)"
   ]
  },
  {
   "cell_type": "code",
   "execution_count": 30,
   "metadata": {
    "collapsed": false
   },
   "outputs": [
    {
     "name": "stdout",
     "output_type": "stream",
     "text": [
      "0 강아지\n",
      "1 고양이\n",
      "2 파이썬\n",
      "3 원숭이\n",
      "4 참새\n"
     ]
    }
   ],
   "source": [
    "animals = [\"강아지\", \"고양이\", \"이구아나\", \"원숭이\", \"참새\"]\n",
    "\n",
    "for index, animal in enumerate(animals):\n",
    "    if index == 2:\n",
    "        animal = \"파이썬\"\n",
    "    print(index, animal)"
   ]
  },
  {
   "cell_type": "code",
   "execution_count": 32,
   "metadata": {
    "collapsed": false
   },
   "outputs": [
    {
     "name": "stdout",
     "output_type": "stream",
     "text": [
      "강아지\n",
      "고양이\n",
      "파이썬\n",
      "원숭이\n",
      "참새\n"
     ]
    }
   ],
   "source": [
    "for i in range(len(animals)):\n",
    "    if i == 2:\n",
    "        animals[i] = \"파이썬\"\n",
    "    print(animals[i])"
   ]
  },
  {
   "cell_type": "code",
   "execution_count": null,
   "metadata": {
    "collapsed": true
   },
   "outputs": [],
   "source": []
  }
 ],
 "metadata": {
  "kernelspec": {
   "display_name": "Python 3",
   "language": "python",
   "name": "python3"
  },
  "language_info": {
   "codemirror_mode": {
    "name": "ipython",
    "version": 3
   },
   "file_extension": ".py",
   "mimetype": "text/x-python",
   "name": "python",
   "nbconvert_exporter": "python",
   "pygments_lexer": "ipython3",
   "version": "3.5.1+"
  }
 },
 "nbformat": 4,
 "nbformat_minor": 0
}
